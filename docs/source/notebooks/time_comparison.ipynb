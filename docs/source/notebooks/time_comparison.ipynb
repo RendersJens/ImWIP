{
 "cells": [
  {
   "cell_type": "markdown",
   "id": "1366f306",
   "metadata": {},
   "source": [
    "Time comparison\n",
    "==============\n",
    "In this notebook, the computation time of the ImWIP functions is measured and compared against the warping functions of SciPy, scikit-image and Open-CV."
   ]
  },
  {
   "cell_type": "code",
   "execution_count": 1,
   "id": "32ca6ffc",
   "metadata": {},
   "outputs": [],
   "source": [
    "import numpy as np\n",
    "import cupy as cp\n",
    "import imwip\n",
    "from skimage.transform import warp as scikit_warp\n",
    "from scipy.ndimage import map_coordinates as scipy_warp\n",
    "from cv2 import remap as cv_warp\n",
    "from cv2 import INTER_CUBIC"
   ]
  },
  {
   "cell_type": "markdown",
   "id": "ade0965b",
   "metadata": {},
   "source": [
    "Generating data\n",
    "------------------------"
   ]
  },
  {
   "cell_type": "code",
   "execution_count": 2,
   "id": "2c871cf7",
   "metadata": {},
   "outputs": [],
   "source": [
    "im_size_2D = 2000\n",
    "im_size_3D = 200"
   ]
  },
  {
   "cell_type": "code",
   "execution_count": 3,
   "id": "6b0eaa01",
   "metadata": {},
   "outputs": [],
   "source": [
    "im_2D = np.random.random((im_size_2D,)*2).astype(np.float32)\n",
    "im_2D_raveled = im_2D.ravel()\n",
    "u_2D = np.random.random((im_size_2D,)*2).astype(np.float32)\n",
    "v_2D = np.random.random((im_size_2D,)*2).astype(np.float32)"
   ]
  },
  {
   "cell_type": "code",
   "execution_count": 4,
   "id": "70df3ee6",
   "metadata": {},
   "outputs": [],
   "source": [
    "im_3D = np.random.random((im_size_3D,)*3).astype(np.float32)\n",
    "im_3D_raveled = im_3D.ravel()\n",
    "u_3D = np.random.random((im_size_3D,)*3).astype(np.float32)\n",
    "v_3D = np.random.random((im_size_3D,)*3).astype(np.float32)\n",
    "w_3D = np.random.random((im_size_3D,)*3).astype(np.float32)"
   ]
  },
  {
   "cell_type": "code",
   "execution_count": 5,
   "id": "8a8cd12e",
   "metadata": {},
   "outputs": [],
   "source": [
    "# DVF in absolute format (ImWIP uses relative format)\n",
    "i, j = np.meshgrid(\n",
    "    np.arange(im_size_2D),\n",
    "    np.arange(im_size_2D),\n",
    "    indexing=\"ij\"\n",
    ")\n",
    "map_i_2D = (u_2D + i).astype(np.float32)\n",
    "map_j_2D = (v_2D + j).astype(np.float32)\n",
    "map_2D = np.array([map_i_2D, map_j_2D])"
   ]
  },
  {
   "cell_type": "code",
   "execution_count": 6,
   "id": "cb4e52e5",
   "metadata": {},
   "outputs": [],
   "source": [
    "# DVF in absolute format (ImWIP uses relative format)\n",
    "i, j, k = np.meshgrid(\n",
    "    np.arange(im_size_3D),\n",
    "    np.arange(im_size_3D),\n",
    "    np.arange(im_size_3D),\n",
    "    indexing=\"ij\"\n",
    ")\n",
    "map_i_3D = (u_3D + i).astype(np.float32)\n",
    "map_j_3D = (v_3D + j).astype(np.float32)\n",
    "map_k_3D = (w_3D + k).astype(np.float32)\n",
    "map_3D = np.array([map_i_3D, map_j_3D, map_k_3D])"
   ]
  },
  {
   "cell_type": "markdown",
   "id": "2c18c654",
   "metadata": {},
   "source": [
    "Timing\n",
    "----------"
   ]
  },
  {
   "cell_type": "markdown",
   "id": "82fb4412",
   "metadata": {},
   "source": [
    "### 3D warps"
   ]
  },
  {
   "cell_type": "markdown",
   "id": "4f35c3c8",
   "metadata": {},
   "source": [
    "**ImWIP**, cpp backend, including copy to and from GPU:"
   ]
  },
  {
   "cell_type": "code",
   "execution_count": 7,
   "id": "8d7ddaa0",
   "metadata": {},
   "outputs": [
    {
     "name": "stdout",
     "output_type": "stream",
     "text": [
      "77.3 ms ± 4.83 ms per loop (mean ± std. dev. of 10 runs, 10 loops each)\n"
     ]
    }
   ],
   "source": [
    "%timeit -r 10 -n 10 imwip.warp(im_3D, u_3D, v_3D, w_3D, degree=3, backend=\"cpp\")"
   ]
  },
  {
   "cell_type": "markdown",
   "id": "4e383445",
   "metadata": {},
   "source": [
    "**ImWIP**, Numba backend, including copy to and from GPU:"
   ]
  },
  {
   "cell_type": "code",
   "execution_count": 9,
   "id": "ecfe703e",
   "metadata": {},
   "outputs": [
    {
     "name": "stdout",
     "output_type": "stream",
     "text": [
      "91.5 ms ± 439 µs per loop (mean ± std. dev. of 10 runs, 10 loops each)\n"
     ]
    }
   ],
   "source": [
    "%timeit -r 10 -n 10 imwip.warp(im_3D, u_3D, v_3D, w_3D, degree=3, backend=\"numba\")"
   ]
  },
  {
   "cell_type": "markdown",
   "id": "60a930d8",
   "metadata": {},
   "source": [
    "**ImWIP**, Numba backend, arrays preloaded on GPU:"
   ]
  },
  {
   "cell_type": "code",
   "execution_count": 10,
   "id": "9a0e7e61",
   "metadata": {},
   "outputs": [],
   "source": [
    "# converting numpy arrays to cupy arrays on GPU\n",
    "im_3D_gpu = cp.asarray(im_3D)\n",
    "u_3D_gpu = cp.asarray(u_3D)\n",
    "v_3D_gpu = cp.asarray(v_3D)\n",
    "w_3D_gpu = cp.asarray(w_3D)"
   ]
  },
  {
   "cell_type": "code",
   "execution_count": 11,
   "id": "64571388",
   "metadata": {},
   "outputs": [
    {
     "name": "stdout",
     "output_type": "stream",
     "text": [
      "62 ms ± 928 µs per loop (mean ± std. dev. of 10 runs, 10 loops each)\n"
     ]
    }
   ],
   "source": [
    "%timeit -r 10 -n 10 imwip.warp(im_3D_gpu, u_3D_gpu, v_3D_gpu, w_3D_gpu, degree=3, backend=\"numba\")"
   ]
  },
  {
   "cell_type": "code",
   "execution_count": 12,
   "id": "db8f9b16",
   "metadata": {},
   "outputs": [],
   "source": [
    "# freeing the GPU memory\n",
    "del im_3D_gpu, u_3D_gpu, v_3D_gpu, w_3D_gpu"
   ]
  },
  {
   "cell_type": "markdown",
   "id": "02e7c68d",
   "metadata": {},
   "source": [
    "**SciPy**"
   ]
  },
  {
   "cell_type": "code",
   "execution_count": 13,
   "id": "02fcea99",
   "metadata": {},
   "outputs": [
    {
     "name": "stdout",
     "output_type": "stream",
     "text": [
      "1.87 s ± 12 ms per loop (mean ± std. dev. of 10 runs, 10 loops each)\n"
     ]
    }
   ],
   "source": [
    "%timeit -r 10 -n 10 scipy_warp(im_3D, map_3D, order=3)"
   ]
  },
  {
   "cell_type": "markdown",
   "id": "057bc0fe",
   "metadata": {},
   "source": [
    "**scikit-image**"
   ]
  },
  {
   "cell_type": "code",
   "execution_count": 14,
   "id": "d99179d5",
   "metadata": {},
   "outputs": [
    {
     "name": "stdout",
     "output_type": "stream",
     "text": [
      "2.74 s ± 16 ms per loop (mean ± std. dev. of 10 runs, 10 loops each)\n"
     ]
    }
   ],
   "source": [
    "%timeit -r 10 -n 10 scikit_warp(im_3D, map_3D, clip=False, order=3)"
   ]
  },
  {
   "cell_type": "markdown",
   "id": "0d06ca63",
   "metadata": {},
   "source": [
    "### 2D warps"
   ]
  },
  {
   "cell_type": "markdown",
   "id": "ab91753f",
   "metadata": {},
   "source": [
    "**ImWIP**, cpp backend, including copy to and from GPU:"
   ]
  },
  {
   "cell_type": "code",
   "execution_count": 15,
   "id": "b57d2121",
   "metadata": {},
   "outputs": [
    {
     "name": "stdout",
     "output_type": "stream",
     "text": [
      "13.5 ms ± 636 µs per loop (mean ± std. dev. of 10 runs, 10 loops each)\n"
     ]
    }
   ],
   "source": [
    "%timeit -r 10 -n 10 imwip.warp(im_2D, u_2D, v_2D, degree=3, backend=\"cpp\")"
   ]
  },
  {
   "cell_type": "markdown",
   "id": "597cf6ca",
   "metadata": {},
   "source": [
    "**ImWIP**, Numba backend, including copy to and from GPU:"
   ]
  },
  {
   "cell_type": "code",
   "execution_count": 17,
   "id": "fc747a5f",
   "metadata": {},
   "outputs": [
    {
     "name": "stdout",
     "output_type": "stream",
     "text": [
      "19.8 ms ± 539 µs per loop (mean ± std. dev. of 10 runs, 10 loops each)\n"
     ]
    }
   ],
   "source": [
    "%timeit -r 10 -n 10 imwip.warp(im_2D, u_2D, v_2D, degree=3, backend=\"numba\")"
   ]
  },
  {
   "cell_type": "markdown",
   "id": "55c13a40",
   "metadata": {},
   "source": [
    "**ImWIP**, Numba backend, arrays preloaded on GPU:"
   ]
  },
  {
   "cell_type": "code",
   "execution_count": 18,
   "id": "a494b9a9",
   "metadata": {},
   "outputs": [],
   "source": [
    "# converting numpy arrays to cupy arrays on GPU\n",
    "im_2D_gpu = cp.asarray(im_2D)\n",
    "u_2D_gpu = cp.asarray(u_2D)\n",
    "v_2D_gpu = cp.asarray(v_2D)"
   ]
  },
  {
   "cell_type": "code",
   "execution_count": 19,
   "id": "a4d32934",
   "metadata": {},
   "outputs": [
    {
     "name": "stdout",
     "output_type": "stream",
     "text": [
      "8.47 ms ± 538 µs per loop (mean ± std. dev. of 10 runs, 10 loops each)\n"
     ]
    }
   ],
   "source": [
    "%timeit -r 10 -n 10 imwip.warp(im_2D_gpu, u_2D_gpu, v_2D_gpu, degree=3, backend=\"numba\")"
   ]
  },
  {
   "cell_type": "code",
   "execution_count": 20,
   "id": "90d02894",
   "metadata": {},
   "outputs": [],
   "source": [
    "# freeing the GPU memory\n",
    "del im_2D_gpu, u_2D_gpu, v_2D_gpu"
   ]
  },
  {
   "cell_type": "markdown",
   "id": "addb0b9f",
   "metadata": {},
   "source": [
    "**SciPy**"
   ]
  },
  {
   "cell_type": "code",
   "execution_count": 21,
   "id": "925c34c9",
   "metadata": {},
   "outputs": [
    {
     "name": "stdout",
     "output_type": "stream",
     "text": [
      "344 ms ± 1.58 ms per loop (mean ± std. dev. of 10 runs, 10 loops each)\n"
     ]
    }
   ],
   "source": [
    "%timeit -r 10 -n 10 scipy_warp(im_2D, map_2D, order=3)"
   ]
  },
  {
   "cell_type": "markdown",
   "id": "7d44184e",
   "metadata": {},
   "source": [
    "**scikit-image**"
   ]
  },
  {
   "cell_type": "code",
   "execution_count": 22,
   "id": "aaa774e1",
   "metadata": {},
   "outputs": [
    {
     "name": "stdout",
     "output_type": "stream",
     "text": [
      "483 ms ± 1.19 ms per loop (mean ± std. dev. of 10 runs, 10 loops each)\n"
     ]
    }
   ],
   "source": [
    "%timeit -r 10 -n 10 scikit_warp(im_2D, map_2D, clip=False, order=3)"
   ]
  },
  {
   "cell_type": "markdown",
   "id": "1c7e71ba",
   "metadata": {},
   "source": [
    "**Open-CV** (only 2D warps)"
   ]
  },
  {
   "cell_type": "code",
   "execution_count": 23,
   "id": "d4181032",
   "metadata": {},
   "outputs": [
    {
     "name": "stdout",
     "output_type": "stream",
     "text": [
      "5.95 ms ± 149 µs per loop (mean ± std. dev. of 10 runs, 10 loops each)\n"
     ]
    }
   ],
   "source": [
    "%timeit -r 10 -n 10 cv_warp(im_2D, map_j_2D, map_i_2D, INTER_CUBIC)"
   ]
  },
  {
   "cell_type": "markdown",
   "id": "fa7a7fa8",
   "metadata": {},
   "source": [
    "### Adjoint warps"
   ]
  },
  {
   "cell_type": "code",
   "execution_count": 24,
   "id": "7d884e96",
   "metadata": {},
   "outputs": [
    {
     "name": "stdout",
     "output_type": "stream",
     "text": [
      "12.8 ms ± 656 µs per loop (mean ± std. dev. of 10 runs, 10 loops each)\n"
     ]
    }
   ],
   "source": [
    "%timeit -r 10 -n 10 imwip.adjoint_warp(im_2D, u_2D, v_2D, degree=3)"
   ]
  },
  {
   "cell_type": "code",
   "execution_count": 25,
   "id": "1d0d8cf9",
   "metadata": {},
   "outputs": [
    {
     "name": "stdout",
     "output_type": "stream",
     "text": [
      "67.1 ms ± 847 µs per loop (mean ± std. dev. of 10 runs, 10 loops each)\n"
     ]
    }
   ],
   "source": [
    "%timeit -r 10 -n 10 imwip.adjoint_warp(im_3D, u_3D, v_3D, w_3D, degree=3)"
   ]
  },
  {
   "cell_type": "markdown",
   "id": "285cba84",
   "metadata": {},
   "source": [
    "### Differentiated warps"
   ]
  },
  {
   "cell_type": "code",
   "execution_count": 26,
   "id": "c0e499c7",
   "metadata": {},
   "outputs": [
    {
     "name": "stdout",
     "output_type": "stream",
     "text": [
      "20.4 ms ± 403 µs per loop (mean ± std. dev. of 10 runs, 10 loops each)\n"
     ]
    }
   ],
   "source": [
    "%timeit -r 10 -n 10 imwip.diff_warp(im_2D, u_2D, v_2D)"
   ]
  },
  {
   "cell_type": "code",
   "execution_count": 27,
   "id": "28b94181",
   "metadata": {},
   "outputs": [
    {
     "name": "stdout",
     "output_type": "stream",
     "text": [
      "196 ms ± 1.36 ms per loop (mean ± std. dev. of 10 runs, 10 loops each)\n"
     ]
    }
   ],
   "source": [
    "%timeit -r 10 -n 10 imwip.diff_warp(im_3D, u_3D, v_3D, w_3D)"
   ]
  },
  {
   "cell_type": "code",
   "execution_count": null,
   "id": "4a82baaa",
   "metadata": {},
   "outputs": [],
   "source": []
  }
 ],
 "metadata": {
  "kernelspec": {
   "display_name": "Python 3 (ipykernel)",
   "language": "python",
   "name": "python3"
  },
  "language_info": {
   "codemirror_mode": {
    "name": "ipython",
    "version": 3
   },
   "file_extension": ".py",
   "mimetype": "text/x-python",
   "name": "python",
   "nbconvert_exporter": "python",
   "pygments_lexer": "ipython3",
   "version": "3.10.6"
  }
 },
 "nbformat": 4,
 "nbformat_minor": 5
}
